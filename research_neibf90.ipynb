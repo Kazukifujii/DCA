{
 "cells": [
  {
   "cell_type": "code",
   "execution_count": 12,
   "metadata": {},
   "outputs": [],
   "source": [
    "fileadress='test/datas/cifdirs/testcif/ABW/ABW.cif_poscar.nnlist'"
   ]
  },
  {
   "cell_type": "code",
   "execution_count": 13,
   "metadata": {},
   "outputs": [],
   "source": [
    "import re\n",
    "from collections import defaultdict"
   ]
  },
  {
   "cell_type": "code",
   "execution_count": 127,
   "metadata": {},
   "outputs": [],
   "source": [
    "def read_siteinfo_poscar(filepath):\n",
    "    \"\"\"\n",
    "    Read siteinfo from a POSCAR file.\n",
    "    \"\"\"\n",
    "    poscar = open(filepath).readlines()\n",
    "    for i,text in enumerate(poscar):\n",
    "        if ('direct' in text):\n",
    "            break\n",
    "        site_info = {i:re.findall(r'\\w+',coords)[-1] for i,coords in enumerate(poscar[8:])}\n",
    "    return site_info"
   ]
  },
  {
   "cell_type": "code",
   "execution_count": 128,
   "metadata": {},
   "outputs": [],
   "source": [
    "import os \n",
    "import numpy as np\n",
    "dirpath = 'test/datas/cifdirs/testcif/ABW'\n",
    "siteinfo = read_siteinfo_poscar(os.path.join(dirpath,'ABW.cif_poscar'))\n",
    "fileadress = os.path.join(dirpath,'ABW.cif_poscar.nnlist')"
   ]
  },
  {
   "cell_type": "code",
   "execution_count": 129,
   "metadata": {},
   "outputs": [],
   "source": [
    "#make nn_data.pickle from file of nnlis\n",
    "#set init info\n",
    "f=open(fileadress,'r').readlines()\n",
    "filename=re.split('/',fileadress)[-1]\n",
    "resultfile='{}.pickle'.format(filename.replace('.nnlist',''))\n",
    "resultadress=fileadress.replace(filename,'')\n",
    "resultadress='{}{}'.format(resultadress,resultfile)"
   ]
  },
  {
   "cell_type": "code",
   "execution_count": 130,
   "metadata": {},
   "outputs": [],
   "source": [
    "nnlist=defaultdict(list)\n",
    "#read nnlist\n",
    "for i in f:\n",
    "    coord_info = i.replace('\\n','').split(' ')\n",
    "    coord_info = [coord_info_ for coord_info_ in coord_info if coord_info_ != '']\n",
    "    coord_info = [int(coord_info_) if not re.search('\\.',coord_info_) else float(coord_info_) for coord_info_ in coord_info]\n",
    "\n",
    "    #サイト番号をchemenvと合わせる\n",
    "    coord_info[0] -= 1\n",
    "    coord_info[1] -= 1\n",
    "\n",
    "    nnlist[coord_info[0]].append((coord_info[1:]))"
   ]
  },
  {
   "cell_type": "code",
   "execution_count": 131,
   "metadata": {},
   "outputs": [
    {
     "data": {
      "text/plain": [
       "[[0, 9.873, -9.873, 0.0, -0.0, -1, 0, 0],\n",
       " [0, 5.254, -0.0, -5.254, -0.0, 0, -1, 0],\n",
       " [0, 8.77, 0.0, 0.0, -8.77, 0, 0, -1],\n",
       " [0, 0.0, 0.0, 0.0, 0.0, 0, 0, 0],\n",
       " [0, 8.77, 0.0, 0.0, 8.77, 0, 0, 1],\n",
       " [0, 5.254, 0.0, 5.254, 0.0, 0, 1, 0],\n",
       " [0, 9.873, 9.873, 0.0, 0.0, 1, 0, 0],\n",
       " [1, 7.106222, 4.9365, -2.627, 4.385, 0, -1, 0],\n",
       " [1, 7.106222, 4.9365, 2.627, 4.385, 0, 0, 0],\n",
       " [2, 6.10244, 3.104071, -5.254, -0.0, 0, -1, 0],\n",
       " [2, 9.303126, 3.104071, 0.0, -8.77, 0, 0, -1],\n",
       " [2, 3.104071, 3.104071, 0.0, 0.0, 0, 0, 0],\n",
       " [2, 9.303126, 3.104071, 0.0, 8.77, 0, 0, 1],\n",
       " [2, 6.10244, 3.104071, 5.254, 0.0, 0, 1, 0],\n",
       " [3, 5.430207, -1.832429, -2.627, 4.385, 0, -1, 0],\n",
       " [3, 5.430207, -1.832429, 2.627, 4.385, 0, 0, 0],\n",
       " [3, 9.203053, -1.832429, 7.881, 4.385, 0, 1, 0],\n",
       " [4, 4.423797, 3.104071, -2.627, 1.741722, 0, -1, 0],\n",
       " [4, 4.423797, 3.104071, 2.627, 1.741722, 0, 0, 0],\n",
       " [4, 8.647486, 3.104071, 7.881, 1.741722, 0, 1, 0],\n",
       " [5, 6.160295, -1.832429, -5.254, -2.643278, 0, -1, 0],\n",
       " [5, 3.21632, -1.832429, 0.0, -2.643278, 0, 0, 0],\n",
       " [5, 6.160295, -1.832429, 5.254, -2.643278, 0, 1, 0],\n",
       " [6, 3.15194, -0.0, -2.627, 1.741722, 0, -1, 0],\n",
       " [6, 3.15194, 0.0, 2.627, 1.741722, 0, 0, 0],\n",
       " [6, 8.071168, 0.0, 7.881, 1.741722, 0, 1, 0],\n",
       " [7, 7.678572, 4.9365, -5.254, -2.643278, 0, -1, 0],\n",
       " [7, 5.599638, 4.9365, 0.0, -2.643278, 0, 0, 0],\n",
       " [7, 7.678572, 4.9365, 5.254, -2.643278, 0, 1, 0],\n",
       " [8, 5.494862, 1.552036, -5.254, -0.424468, 0, -1, 0],\n",
       " [8, 9.983047, 1.552036, -5.254, 8.345532, 0, -1, 1],\n",
       " [8, 9.324541, 1.552036, 0.0, -9.194468, 0, 0, -1],\n",
       " [8, 1.609033, 1.552036, 0.0, -0.424468, 0, 0, 0],\n",
       " [8, 8.488623, 1.552036, 0.0, 8.345532, 0, 0, 1],\n",
       " [8, 5.494862, 1.552036, 5.254, -0.424468, 0, 1, 0],\n",
       " [8, 9.983047, 1.552036, 5.254, 8.345532, 0, 1, 1],\n",
       " [9, 5.834513, -3.384464, -2.627, 3.960532, 0, -1, 0],\n",
       " [9, 5.834513, -3.384464, 2.627, 3.960532, 0, 0, 0],\n",
       " [9, 9.447252, -3.384464, 7.881, 3.960532, 0, 1, 0],\n",
       " [10, 3.741968, 1.552036, -2.627, 2.16619, 0, -1, 0],\n",
       " [10, 3.741968, 1.552036, 2.627, 2.16619, 0, 0, 0],\n",
       " [10, 8.319336, 1.552036, 7.881, 2.16619, 0, 1, 0],\n",
       " [11, 6.63191, -3.384464, -5.254, -2.21881, 0, -1, 0],\n",
       " [11, 4.046939, -3.384464, 0.0, -2.21881, 0, 0, 0],\n",
       " [11, 6.63191, -3.384464, 5.254, -2.21881, 0, 1, 0],\n",
       " [12, 6.632897, -0.323834, -6.5675, 0.870861, 0, -1, 0],\n",
       " [12, 8.014147, -0.323834, -1.3135, -7.899139, 0, 0, -1],\n",
       " [12, 1.608897, -0.323834, -1.3135, 0.870861, 0, 0, 0],\n",
       " [12, 9.735315, -0.323834, -1.3135, 9.640861, 0, 0, 1],\n",
       " [12, 8.833392, -0.323834, 3.9405, -7.899139, 0, 1, -1],\n",
       " [12, 4.048556, -0.323834, 3.9405, 0.870861, 0, 1, 0],\n",
       " [13, 7.010948, 4.612666, -3.9405, -3.514139, 0, -1, 0],\n",
       " [13, 5.945682, 4.612666, 1.3135, -3.514139, 0, 0, 0],\n",
       " [13, 8.761159, 4.612666, 6.5675, -3.514139, 0, 1, 0],\n",
       " [14, 7.459289, 3.427906, -6.5675, 0.870861, 0, -1, 0],\n",
       " [14, 8.710466, 3.427906, -1.3135, -7.899139, 0, 0, -1],\n",
       " [14, 3.772826, 3.427906, -1.3135, 0.870861, 0, 0, 0],\n",
       " [14, 9.469661, 3.427906, 3.9405, -7.899139, 0, 1, -1],\n",
       " [14, 5.294948, 3.427906, 3.9405, 0.870861, 0, 1, 0],\n",
       " [15, 5.491136, -1.508594, -3.9405, -3.514139, 0, -1, 0],\n",
       " [15, 4.043552, -1.508594, 1.3135, -3.514139, 0, 0, 0],\n",
       " [15, 7.599808, -1.508594, 6.5675, -3.514139, 0, 1, 0],\n",
       " [16, 8.833392, -0.323834, -3.9405, -7.899139, 0, -1, -1],\n",
       " [16, 4.048556, -0.323834, -3.9405, 0.870861, 0, -1, 0],\n",
       " [16, 8.014147, -0.323834, 1.3135, -7.899139, 0, 0, -1],\n",
       " [16, 1.608897, -0.323834, 1.3135, 0.870861, 0, 0, 0],\n",
       " [16, 9.735315, -0.323834, 1.3135, 9.640861, 0, 0, 1],\n",
       " [16, 6.632897, -0.323834, 6.5675, 0.870861, 0, 1, 0],\n",
       " [17, 8.761159, 4.612666, -6.5675, -3.514139, 0, -1, 0],\n",
       " [17, 5.945682, 4.612666, -1.3135, -3.514139, 0, 0, 0],\n",
       " [17, 7.010948, 4.612666, 3.9405, -3.514139, 0, 1, 0],\n",
       " [18, 9.469661, 3.427906, -3.9405, -7.899139, 0, -1, -1],\n",
       " [18, 5.294948, 3.427906, -3.9405, 0.870861, 0, -1, 0],\n",
       " [18, 8.710466, 3.427906, 1.3135, -7.899139, 0, 0, -1],\n",
       " [18, 3.772826, 3.427906, 1.3135, 0.870861, 0, 0, 0],\n",
       " [18, 7.459289, 3.427906, 6.5675, 0.870861, 0, 1, 0],\n",
       " [19, 7.599808, -1.508594, -6.5675, -3.514139, 0, -1, 0],\n",
       " [19, 4.043552, -1.508594, -1.3135, -3.514139, 0, 0, 0],\n",
       " [19, 5.491136, -1.508594, 3.9405, -3.514139, 0, 1, 0],\n",
       " [20, 5.494606, -0.916214, -5.254, -1.321639, 0, -1, 0],\n",
       " [20, 1.60816, -0.916214, 0.0, -1.321639, 0, 0, 0],\n",
       " [20, 5.494606, -0.916214, 5.254, -1.321639, 0, 1, 0],\n",
       " [21, 5.696315, 4.020286, -2.627, 3.063361, 0, -1, 0],\n",
       " [21, 5.696315, 4.020286, 2.627, 3.063361, 0, 0, 0],\n",
       " [21, 9.362534, 4.020286, 7.881, 3.063361, 0, 1, 0],\n",
       " [22, 6.746402, 4.020286, -5.254, -1.321639, 0, -1, 0],\n",
       " [22, 4.231953, 4.020286, 0.0, -1.321639, 0, 0, 0],\n",
       " [22, 6.746402, 4.020286, 5.254, -1.321639, 0, 1, 0],\n",
       " [23, 4.138207, -0.916214, -2.627, 3.063361, 0, -1, 0],\n",
       " [23, 4.138207, -0.916214, 2.627, 3.063361, 0, 0, 0],\n",
       " [23, 8.504927, -0.916214, 7.881, 3.063361, 0, 1, 0]]"
      ]
     },
     "execution_count": 131,
     "metadata": {},
     "output_type": "execute_result"
    }
   ],
   "source": [
    "nnlist[0]"
   ]
  },
  {
   "cell_type": "code",
   "execution_count": 145,
   "metadata": {},
   "outputs": [],
   "source": [
    "nnlist = {key:sorted(coordinations,key=lambda x: x[1]) for key,coordinations in nnlist.items()}"
   ]
  },
  {
   "cell_type": "code",
   "execution_count": 155,
   "metadata": {},
   "outputs": [],
   "source": [
    "distances = defaultdict(list)\n",
    "for isite,atom in siteinfo.items():\n",
    "    if atom == 'Si':\n",
    "        max_range = 5\n",
    "    elif atom == 'O':\n",
    "        max_range = 3\n",
    "    \n",
    "    distance = [x[1] for x in nnlist[isite][1:max_range]]\n",
    "    distances[atom]+=distance"
   ]
  },
  {
   "cell_type": "code",
   "execution_count": 160,
   "metadata": {},
   "outputs": [],
   "source": [
    "from matplotlib import pyplot as plt"
   ]
  },
  {
   "cell_type": "code",
   "execution_count": 164,
   "metadata": {},
   "outputs": [
    {
     "data": {
      "image/png": "[encoded data removed]",
      "text/plain": [
       "<Figure size 640x480 with 1 Axes>"
      ]
     },
     "metadata": {},
     "output_type": "display_data"
    }
   ],
   "source": [
    "plt.hist(distances['Si'])\n",
    "plt.show()"
   ]
  },
  {
   "cell_type": "code",
   "execution_count": 165,
   "metadata": {},
   "outputs": [
    {
     "data": {
      "image/png": "[encoded data removed]",
      "text/plain": [
       "<Figure size 640x480 with 1 Axes>"
      ]
     },
     "metadata": {},
     "output_type": "display_data"
    }
   ],
   "source": [
    "plt.hist(distances['O'])\n",
    "plt.show()"
   ]
  },
  {
   "cell_type": "code",
   "execution_count": null,
   "metadata": {},
   "outputs": [],
   "source": [
    "#set nn_data\n",
    "nn_data=defaultdict(list)\n",
    "center_info=[siteinfo[0],np.nan,0,0,0]\n",
    "for i in nnlist.keys():\n",
    "    nn_data[i].append(center_info)\n",
    "    for isite,distace,coord,cell in nnlist[i]:\n",
    "        nn_data_=[isite,siteinfo[isite-1],*coord]\n",
    "        nn_data[i].append(nn_data_)\n",
    "if os.path.isfile(resultadress):\n",
    "    os.remove(resultadress)\n",
    "with open(resultadress,'wb') as f:\n",
    "    pickle.dump(nn_data,f)\n",
    "return"
   ]
  }
 ],
 "metadata": {
  "kernelspec": {
   "display_name": "Python 3",
   "language": "python",
   "name": "python3"
  },
  "language_info": {
   "codemirror_mode": {
    "name": "ipython",
    "version": 3
   },
   "file_extension": ".py",
   "mimetype": "text/x-python",
   "name": "python",
   "nbconvert_exporter": "python",
   "pygments_lexer": "ipython3",
   "version": "3.10.6"
  },
  "orig_nbformat": 4
 },
 "nbformat": 4,
 "nbformat_minor": 2
}
