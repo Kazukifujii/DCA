{
 "cells": [
  {
   "cell_type": "markdown",
   "metadata": {},
   "source": [
    "### データベースとなるcifファイルについて  \n",
    "  ゼオライト学会で用意されているcifファイルをget_zeolitecif.pyを実行して取得した(最終取得日:2023年10月12日)  \n",
    "  また、ここで取得したcifファイルは後にcif2cellを通すことになっている。  \n",
    "  その際、うまく変換できないファイルが4つほど存在したのでpymatgenを使ってそれぞれ下記のようなの整形作業を行った。  "
   ]
  },
  {
   "cell_type": "markdown",
   "metadata": {},
   "source": [
    "1. JOZ,SAF,SEWは'_symmetry_space_group_name_H-M'の項目をcif2cellがうまく読み込めなかったのでpymatgenを使って該当項目の再定義を行った"
   ]
  },
  {
   "cell_type": "code",
   "execution_count": null,
   "metadata": {},
   "outputs": [],
   "source": [
    "from pymatgen.io.cif import CifParser, CifWriter\n",
    "import os\n",
    "cifids = ['JOZ','SAF','SEW']\n",
    "filepath = 'datas/cifdirs/allzeolite'\n",
    "for cifid in cifids:\n",
    "    path = os.path.join(filepath,cifid+'.cif')\n",
    "    cifparser = CifParser(path)\n",
    "    structure = cifparser.get_structures()[0]\n",
    "    #poscarを使ってciffileを書き出す\n",
    "    cifwriter = CifWriter(structure,symprec=0.001)\n",
    "    cifwriter.write_file(path)"
   ]
  },
  {
   "cell_type": "markdown",
   "metadata": {},
   "source": [
    "1. RSNでは'Si'と記述されるべき所、'T'との記述に置き換わっていたのでその部分を書き換えた"
   ]
  },
  {
   "cell_type": "code",
   "execution_count": null,
   "metadata": {},
   "outputs": [],
   "source": [
    "path = os.path.join(filepath,'RSN.cif')\n",
    "cifparser = CifParser(path)\n",
    "structure = cifparser.get_structures()[0]\n",
    "structure.replace_species({'T':'Si'})\n",
    "cifwriter = CifWriter(structure,symprec=0.1)\n",
    "cifwriter.write_file(path)"
   ]
  }
 ],
 "metadata": {
  "kernelspec": {
   "display_name": "Python 3",
   "language": "python",
   "name": "python3"
  },
  "language_info": {
   "codemirror_mode": {
    "name": "ipython",
    "version": 3
   },
   "file_extension": ".py",
   "mimetype": "text/x-python",
   "name": "python",
   "nbconvert_exporter": "python",
   "pygments_lexer": "ipython3",
   "version": "3.10.12"
  }
 },
 "nbformat": 4,
 "nbformat_minor": 2
}
