{
 "cells": [
  {
   "cell_type": "code",
   "execution_count": 1,
   "metadata": {},
   "outputs": [],
   "source": [
    "import matplotlib.pyplot as plt\n",
    "import os \n",
    "import pandas as pd"
   ]
  },
  {
   "cell_type": "code",
   "execution_count": 4,
   "metadata": {},
   "outputs": [
    {
     "name": "stdout",
     "output_type": "stream",
     "text": [
      "datas/cifdirs/sort_volume_ciffiles_top_100/8000219.cif\n",
      "datas/cifdirs/sort_volume_ciffiles_top_100/8000277.cif\n",
      "datas/cifdirs/sort_volume_ciffiles_top_100/8045302.cif\n",
      "datas/cifdirs/sort_volume_ciffiles_top_100/8000008.cif\n",
      "datas/cifdirs/sort_volume_ciffiles_top_100/8000012.cif\n",
      "datas/cifdirs/sort_volume_ciffiles_top_100/8000023.cif\n",
      "datas/cifdirs/sort_volume_ciffiles_top_100/8000049.cif\n",
      "datas/cifdirs/sort_volume_ciffiles_top_100/8000056.cif\n",
      "datas/cifdirs/sort_volume_ciffiles_top_100/8000095.cif\n",
      "datas/cifdirs/sort_volume_ciffiles_top_100/8000104.cif\n",
      "datas/cifdirs/sort_volume_ciffiles_top_100/8000105.cif\n",
      "datas/cifdirs/sort_volume_ciffiles_top_100/8000118.cif\n",
      "datas/cifdirs/sort_volume_ciffiles_top_100/8000149.cif\n",
      "datas/cifdirs/sort_volume_ciffiles_top_100/8000174.cif\n",
      "datas/cifdirs/sort_volume_ciffiles_top_100/8000181.cif\n",
      "datas/cifdirs/sort_volume_ciffiles_top_100/8000185.cif\n",
      "datas/cifdirs/sort_volume_ciffiles_top_100/8000187.cif\n",
      "datas/cifdirs/sort_volume_ciffiles_top_100/8000197.cif\n",
      "datas/cifdirs/sort_volume_ciffiles_top_100/8000205.cif\n",
      "datas/cifdirs/sort_volume_ciffiles_top_100/8000207.cif\n",
      "datas/cifdirs/sort_volume_ciffiles_top_100/8000208.cif\n",
      "datas/cifdirs/sort_volume_ciffiles_top_100/8000218.cif\n",
      "datas/cifdirs/sort_volume_ciffiles_top_100/8000245.cif\n",
      "datas/cifdirs/sort_volume_ciffiles_top_100/8000254.cif\n",
      "datas/cifdirs/sort_volume_ciffiles_top_100/8000256.cif\n",
      "datas/cifdirs/sort_volume_ciffiles_top_100/8000258.cif\n",
      "datas/cifdirs/sort_volume_ciffiles_top_100/8000262.cif\n",
      "datas/cifdirs/sort_volume_ciffiles_top_100/8000278.cif\n",
      "datas/cifdirs/sort_volume_ciffiles_top_100/8000280.cif\n",
      "datas/cifdirs/sort_volume_ciffiles_top_100/8000281.cif\n",
      "datas/cifdirs/sort_volume_ciffiles_top_100/8000294.cif\n",
      "datas/cifdirs/sort_volume_ciffiles_top_100/8013876.cif\n",
      "datas/cifdirs/sort_volume_ciffiles_top_100/8035701.cif\n",
      "datas/cifdirs/sort_volume_ciffiles_top_100/8035976.cif\n",
      "datas/cifdirs/sort_volume_ciffiles_top_100/8045398.cif\n",
      "datas/cifdirs/sort_volume_ciffiles_top_100/8045486.cif\n",
      "datas/cifdirs/sort_volume_ciffiles_top_100/8045969.cif\n",
      "datas/cifdirs/sort_volume_ciffiles_top_100/8321454.cif\n",
      "datas/cifdirs/sort_volume_ciffiles_top_100/8045553.cif\n",
      "datas/cifdirs/sort_volume_ciffiles_top_100/8045575.cif\n",
      "datas/cifdirs/sort_volume_ciffiles_top_100/8000022.cif\n",
      "datas/cifdirs/sort_volume_ciffiles_top_100/8000061.cif\n",
      "datas/cifdirs/sort_volume_ciffiles_top_100/8000068.cif\n",
      "datas/cifdirs/sort_volume_ciffiles_top_100/8000070.cif\n",
      "datas/cifdirs/sort_volume_ciffiles_top_100/8000083.cif\n",
      "datas/cifdirs/sort_volume_ciffiles_top_100/8000085.cif\n",
      "datas/cifdirs/sort_volume_ciffiles_top_100/8000099.cif\n",
      "datas/cifdirs/sort_volume_ciffiles_top_100/8000102.cif\n",
      "datas/cifdirs/sort_volume_ciffiles_top_100/8000114.cif\n",
      "datas/cifdirs/sort_volume_ciffiles_top_100/8000151.cif\n",
      "datas/cifdirs/sort_volume_ciffiles_top_100/8000175.cif\n",
      "datas/cifdirs/sort_volume_ciffiles_top_100/8000176.cif\n",
      "datas/cifdirs/sort_volume_ciffiles_top_100/8000193.cif\n",
      "datas/cifdirs/sort_volume_ciffiles_top_100/8000196.cif\n",
      "datas/cifdirs/sort_volume_ciffiles_top_100/8000202.cif\n",
      "datas/cifdirs/sort_volume_ciffiles_top_100/8000214.cif\n",
      "datas/cifdirs/sort_volume_ciffiles_top_100/8000215.cif\n",
      "datas/cifdirs/sort_volume_ciffiles_top_100/8000220.cif\n",
      "datas/cifdirs/sort_volume_ciffiles_top_100/8000221.cif\n",
      "datas/cifdirs/sort_volume_ciffiles_top_100/8000240.cif\n",
      "datas/cifdirs/sort_volume_ciffiles_top_100/8000257.cif\n",
      "datas/cifdirs/sort_volume_ciffiles_top_100/8000265.cif\n",
      "datas/cifdirs/sort_volume_ciffiles_top_100/8009060.cif\n",
      "datas/cifdirs/sort_volume_ciffiles_top_100/8012138.cif\n",
      "datas/cifdirs/sort_volume_ciffiles_top_100/8013807.cif\n",
      "datas/cifdirs/sort_volume_ciffiles_top_100/8020558.cif\n",
      "datas/cifdirs/sort_volume_ciffiles_top_100/8021222.cif\n",
      "datas/cifdirs/sort_volume_ciffiles_top_100/8021381.cif\n",
      "datas/cifdirs/sort_volume_ciffiles_top_100/8022958.cif\n",
      "datas/cifdirs/sort_volume_ciffiles_top_100/8024665.cif\n",
      "datas/cifdirs/sort_volume_ciffiles_top_100/8024794.cif\n",
      "datas/cifdirs/sort_volume_ciffiles_top_100/8025224.cif\n",
      "datas/cifdirs/sort_volume_ciffiles_top_100/8028603.cif\n",
      "datas/cifdirs/sort_volume_ciffiles_top_100/8028661.cif\n",
      "datas/cifdirs/sort_volume_ciffiles_top_100/8033366.cif\n",
      "datas/cifdirs/sort_volume_ciffiles_top_100/8036290.cif\n",
      "datas/cifdirs/sort_volume_ciffiles_top_100/8036302.cif\n",
      "datas/cifdirs/sort_volume_ciffiles_top_100/8036513.cif\n",
      "datas/cifdirs/sort_volume_ciffiles_top_100/8037185.cif\n",
      "datas/cifdirs/sort_volume_ciffiles_top_100/8037674.cif\n",
      "datas/cifdirs/sort_volume_ciffiles_top_100/8037711.cif\n",
      "datas/cifdirs/sort_volume_ciffiles_top_100/8043639.cif\n",
      "datas/cifdirs/sort_volume_ciffiles_top_100/8045573.cif\n",
      "datas/cifdirs/sort_volume_ciffiles_top_100/8047113.cif\n",
      "datas/cifdirs/sort_volume_ciffiles_top_100/8047188.cif\n",
      "datas/cifdirs/sort_volume_ciffiles_top_100/8047217.cif\n",
      "datas/cifdirs/sort_volume_ciffiles_top_100/8047363.cif\n",
      "datas/cifdirs/sort_volume_ciffiles_top_100/8047639.cif\n",
      "datas/cifdirs/sort_volume_ciffiles_top_100/8047644.cif\n",
      "datas/cifdirs/sort_volume_ciffiles_top_100/8048025.cif\n",
      "datas/cifdirs/sort_volume_ciffiles_top_100/8077240.cif\n",
      "datas/cifdirs/sort_volume_ciffiles_top_100/8122133.cif\n",
      "datas/cifdirs/sort_volume_ciffiles_top_100/8157942.cif\n",
      "datas/cifdirs/sort_volume_ciffiles_top_100/8122362.cif\n",
      "datas/cifdirs/sort_volume_ciffiles_top_100/8000217.cif\n",
      "datas/cifdirs/sort_volume_ciffiles_top_100/8000267.cif\n",
      "datas/cifdirs/sort_volume_ciffiles_top_100/8000269.cif\n",
      "datas/cifdirs/sort_volume_ciffiles_top_100/8000276.cif\n",
      "datas/cifdirs/sort_volume_ciffiles_top_100/8000279.cif\n",
      "datas/cifdirs/sort_volume_ciffiles_top_100/8000163.cif\n"
     ]
    }
   ],
   "source": [
    "cifdir = 'datas/cifdirs/sort_volume_ciffiles_top_100'\n",
    "target_dir = 'result/sort_volume_ciffiles_top_100'\n",
    "#target_enegy =  'Total GULP energy'\n",
    "target_enegy =  'GULP energy per Si atom'\n",
    "\n",
    "\n",
    "# Get the list of cif files\n",
    "\n",
    "# Get target file\n",
    "\n",
    "\n",
    "target_df = pd.read_csv(os.path.join(target_dir, 'target_dirs.csv'), index_col=0)\n",
    "\n",
    "cif_energy_dict = {}\n",
    "# Get energy and volume\n",
    "for i in range(len(target_df)):\n",
    "    #path = target_df.iloc[i]['cifaddress']\n",
    "    cifid = target_df.iloc[i]['cifid']\n",
    "    path = os.path.join(cifdir, f'{cifid}.cif')\n",
    "    for text in open(path, 'r').readlines():\n",
    "        if target_enegy in text:\n",
    "            cif_energy_dict[cifid] = float(text.split()[-2])\n",
    "            break\n",
    "cif_energy_df = pd.DataFrame.from_dict(cif_energy_dict, orient='index', columns=[target_enegy]).reset_index().rename(columns={'index':'cifid'})\n",
    "\n",
    "#Get DCA point\n",
    "dca_point_df = pd.read_csv(os.path.join(target_dir, 'cifpoint'), index_col=0)\n",
    "\n",
    "\n",
    "# Merge\n",
    "cif_energy_df = cif_energy_df.merge(dca_point_df, on='cifid')"
   ]
  },
  {
   "cell_type": "code",
   "execution_count": null,
   "metadata": {},
   "outputs": [
    {
     "data": {
      "image/png": "[encoded data removed]",
      "text/plain": [
       "<Figure size 432x288 with 1 Axes>"
      ]
     },
     "metadata": {
      "needs_background": "light"
     },
     "output_type": "display_data"
    }
   ],
   "source": [
    "cif_energy_df.plot.scatter(x = 'point', y = target_enegy)\n",
    "plt.show()"
   ]
  },
  {
   "cell_type": "code",
   "execution_count": null,
   "metadata": {},
   "outputs": [],
   "source": []
  }
 ],
 "metadata": {
  "kernelspec": {
   "display_name": "Python 3",
   "language": "python",
   "name": "python3"
  },
  "language_info": {
   "codemirror_mode": {
    "name": "ipython",
    "version": 3
   },
   "file_extension": ".py",
   "mimetype": "text/x-python",
   "name": "python",
   "nbconvert_exporter": "python",
   "pygments_lexer": "ipython3",
   "version": "3.10.6"
  },
  "orig_nbformat": 4
 },
 "nbformat": 4,
 "nbformat_minor": 2
}
